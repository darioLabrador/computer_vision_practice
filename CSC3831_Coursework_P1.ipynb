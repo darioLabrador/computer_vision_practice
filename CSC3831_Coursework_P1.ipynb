{
  "nbformat": 4,
  "nbformat_minor": 0,
  "metadata": {
    "colab": {
      "provenance": [],
      "include_colab_link": true
    },
    "kernelspec": {
      "name": "python3",
      "display_name": "Python 3"
    },
    "language_info": {
      "name": "python"
    }
  },
  "cells": [
    {
      "cell_type": "markdown",
      "metadata": {
        "id": "view-in-github",
        "colab_type": "text"
      },
      "source": [
        "<a href=\"https://colab.research.google.com/github/darioLabrador/computer_vision_practice/blob/main/CSC3831_Coursework_P1.ipynb\" target=\"_parent\"><img src=\"https://colab.research.google.com/assets/colab-badge.svg\" alt=\"Open In Colab\"/></a>"
      ]
    },
    {
      "cell_type": "markdown",
      "source": [
        "# CSC3831 Coursework Part 1: Data Engineering\n",
        "\n"
      ],
      "metadata": {
        "id": "SsFtldtMYMGG"
      }
    },
    {
      "cell_type": "code",
      "execution_count": null,
      "metadata": {
        "id": "CXEwmOVfYG8b"
      },
      "outputs": [],
      "source": [
        "# Loading in standard packages for analysis, feel free to add an extra packages you'd like to use here\n",
        "import random\n",
        "import pandas as pd\n",
        "import numpy as np\n",
        "import seaborn as sns\n",
        "import missingno as msno\n",
        "\n",
        "# Loading in the corrupted dataset to be used in analysis and imputation\n",
        "hc_path = 'https://raw.githubusercontent.com/PaoloMissier/CSC3831-2021-22/main/IMPUTATION/TARGET-DATASETS/CORRUPTED/HOUSES/houses_0.1_MAR.csv'\n",
        "houses_corrupted = pd.read_csv(hc_path, header=0)\n",
        "\n",
        "# Remove an artifact from the dataset\n",
        "houses_corrupted.drop([\"Unnamed: 0\"], axis=1, inplace=True)"
      ]
    },
    {
      "cell_type": "markdown",
      "source": [
        "Above we've loaded in a corrupted version of a housing dataset. The anomalies need to be dealt with and missing values imputed."
      ],
      "metadata": {
        "id": "-UkViOchMMIg"
      }
    },
    {
      "cell_type": "markdown",
      "source": [
        "### 1. Data Understanding [7]\n",
        "- Perform ad hoc EDA to understand and describe what you see in the raw dataset\n",
        "  - Include graphs, statistics, and written descritpions as appropriate\n",
        "  - Any extra information about the data you can provide here is useful, think about performing an analysis (ED**A**), what would you find interesting or useful?\n",
        "- Identify features with missing records, outlier records\n"
      ],
      "metadata": {
        "id": "abwbd_vBYsv7"
      }
    },
    {
      "cell_type": "code",
      "source": [],
      "metadata": {
        "id": "G04uriMrZH7P"
      },
      "execution_count": null,
      "outputs": []
    },
    {
      "cell_type": "markdown",
      "source": [
        "### 2. Outlier Identification [10]\n",
        "- Utilise a statistical outlier detection approach (i.e., **no** KNN, LOF, 1Class SVM)\n",
        "- Utilise an algorithmic outlier detection method of your choice\n",
        "- Compare results and decide what to do with identified outleirs\n",
        "  - Include graphs, statistics, and written descriptions as appropriate\n",
        "- Explain what you are doing, and why your analysis is appropriate\n",
        "- Comment on benefits/detriments of statistical and algorithmic outlier detection approaches\n"
      ],
      "metadata": {
        "id": "CR74DAF_ZQUy"
      }
    },
    {
      "cell_type": "code",
      "source": [],
      "metadata": {
        "id": "jPsaKYCZZPkv"
      },
      "execution_count": null,
      "outputs": []
    },
    {
      "cell_type": "markdown",
      "source": [
        "### 3. Imputation [10]\n",
        "- Identify which features should be imputed and which should be removed\n",
        "  - Provide a written rationale for this decision\n",
        "- Impute the missing records using KNN imputation\n",
        "- Impute the missing records using MICE imputation\n",
        "- Compare both imputed datasets feature distributions against each other and the non-imputed data\n",
        "- Build a regressor on all thre datasets\n",
        "  - Use regression models to predict house median price\n",
        "  - Compare regressors of non-imputed data against imputed datas\n",
        "  - **Note**: If you're struggling to compare against the original dataset focus on comparing the two imputed datasets against each other\n"
      ],
      "metadata": {
        "id": "MOZ1nqTXZswr"
      }
    },
    {
      "cell_type": "code",
      "source": [
        "# Use this dataset for comparison against the imputed datasets\n",
        "h_path = 'https://raw.githubusercontent.com/PaoloMissier/CSC3831-2021-22/main/IMPUTATION/TARGET-DATASETS/ORIGINAL/houses.csv'"
      ],
      "metadata": {
        "id": "JdfHAY07QCef"
      },
      "execution_count": null,
      "outputs": []
    },
    {
      "cell_type": "markdown",
      "source": [
        "### 4. Conclusions & Throughts [3]\n",
        "- Discuss methods used for anomaly detection, pros/cons of each method\n",
        "- Discuss challenges/difficulties in anomaly detection implementation\n",
        "- Discuss methods used for imputation, pros/cons of each method\n",
        "- Discuss challenges/difficulties in imputation implementation"
      ],
      "metadata": {
        "id": "NtLeRqcsQRpB"
      }
    },
    {
      "cell_type": "markdown",
      "source": [],
      "metadata": {
        "id": "7lrraskvQnKu"
      }
    }
  ]
}